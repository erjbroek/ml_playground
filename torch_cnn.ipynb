{
 "cells": [
  {
   "cell_type": "code",
   "execution_count": null,
   "metadata": {},
   "outputs": [],
   "source": [
    "import torch\n",
    "import torch.nn as nn\n",
    "import torch.optim as optim\n",
    "import pandas as pd\n",
    "from torch.utils.data import TensorDataset, DataLoader\n",
    "from torch_cnn import Convolutional_neuralnet\n",
    "\n",
    "if torch.cuda.is_available():\n",
    "  device = torch.device(\"cuda\")\n",
    "  print(\"CUDA is available. Using GPU.\")\n",
    "else:\n",
    "  device = torch.device(\"cpu\")\n",
    "  print(\"CUDA is not available. Using CPU.\")\n",
    "\n",
    "use_gpu = True"
   ]
  },
  {
   "cell_type": "code",
   "execution_count": null,
   "metadata": {},
   "outputs": [],
   "source": [
    "epochs = 10\n",
    "batch_size = 64\n",
    "num_output_classes = 10\n",
    "learning_Rate = 0.001\n",
    "use_gpu = True"
   ]
  },
  {
   "cell_type": "code",
   "execution_count": null,
   "metadata": {},
   "outputs": [],
   "source": [
    "mnist_train = pd.read_csv('./data/mnist/mnist_train.csv', header=None)\n",
    "mnist_test = pd.read_csv('./data/mnist/mnist_test.csv', header=None)\n",
    "\n",
    "mnist_train_x = mnist_train.iloc[:, 1:].values / 255.0\n",
    "mnist_train_y = mnist_train.iloc[:, 0].values \n",
    "mnist_test_x = mnist_test.iloc[:, 1:].values / 255.0\n",
    "mnist_test_y = mnist_test.iloc[:, 0].values\n",
    "\n",
    "if use_gpu:\n",
    "  mnist_train_x = torch.tensor(mnist_train_x, dtype=torch.float32).to(device)\n",
    "  mnist_train_y = torch.tensor(mnist_train_y, dtype=torch.long).to(device)\n",
    "  mnist_test_x = torch.tensor(mnist_test_x, dtype=torch.float32).to(device)\n",
    "  mnist_test_y = torch.tensor(mnist_test_y, dtype=torch.long).to(device)\n",
    "else:\n",
    "  mnist_train_x = torch.tensor(mnist_train_x, dtype=torch.float32)\n",
    "  mnist_train_y = torch.tensor(mnist_train_y, dtype=torch.long)\n",
    "  mnist_test_x = torch.tensor(mnist_test_x, dtype=torch.float32)\n",
    "  mnist_test_y = torch.tensor(mnist_test_y, dtype=torch.long)\n",
    "\n",
    "\n",
    "train_dataset = TensorDataset(mnist_train_x, mnist_train_y)\n",
    "test_dataset = TensorDataset(mnist_test_x, mnist_test_y)\n",
    "train_loader = DataLoader(train_dataset, batch_size=64, shuffle=True)\n",
    "test_loader = DataLoader(test_dataset, batch_size=64, shuffle=False)\n",
    "\n",
    "mnist_train_x.is_cuda\n"
   ]
  },
  {
   "cell_type": "code",
   "execution_count": null,
   "metadata": {},
   "outputs": [],
   "source": [
    "def train_model(model, train_loader, test_loader, criterion, optimizer, epochs):\n",
    "  print(f\"Training on {'GPU :)' if next(model.parameters()).is_cuda else 'CPU.. :('}\\n\")\n",
    "  for epoch in range(epochs):\n",
    "    model.train()\n",
    "    total_loss = 0\n",
    "    correct = 0\n",
    "    total = 0\n",
    "    for images, labels in train_loader:\n",
    "      optimizer.zero_grad()\n",
    "      outputs = model(images)\n",
    "      loss = criterion(outputs, labels)\n",
    "      loss.backward()\n",
    "      optimizer.step()\n",
    "      total_loss += loss.item()\n",
    "            \n",
    "      _, predicted = torch.max(outputs, 1)\n",
    "      correct += (predicted == labels).sum().item()\n",
    "      total += labels.size(0)\n",
    "        \n",
    "    train_accuracy = 100 * correct / total\n",
    "    print(f\"Epoch [{epoch+1}/{epochs}], Loss: {total_loss/len(train_loader):.4f}, Accuracy: {train_accuracy:.2f}%\")\n",
    "        \n",
    "    model.eval()\n",
    "    test_loss = 0\n",
    "    correct = 0\n",
    "    total = 0\n",
    "    with torch.no_grad():\n",
    "      for images, labels in test_loader:\n",
    "          outputs = model(images)\n",
    "          loss = criterion(outputs, labels)\n",
    "          test_loss += loss.item()\n",
    "          _, predicted = torch.max(outputs, 1)\n",
    "          correct += (predicted == labels).sum().item()\n",
    "          total += labels.size(0)\n",
    "        \n",
    "    test_accuracy = 100 * correct / total\n",
    "    print(f\"Test Loss: {test_loss/len(test_loader):.4f}, Test Accuracy: {test_accuracy:.2f}%\")\n",
    "    print(\"=========================================\")\n",
    "    print()"
   ]
  },
  {
   "cell_type": "code",
   "execution_count": null,
   "metadata": {},
   "outputs": [],
   "source": [
    "if use_gpu:\n",
    "  model = Convolutional_neuralnet(train_loader).to(device)\n",
    "else:\n",
    "  model = Convolutional_neuralnet(train_loader)\n",
    "\n",
    "criterion = nn.CrossEntropyLoss()\n",
    "optimizer = optim.Adam(model.parameters(), lr=learning_Rate)\n",
    "\n",
    "\n",
    "# cpu runtime: 436 seconds\n",
    "# gpu runtime: 42.6 seconds\n",
    "train_model(model, train_loader, test_loader, criterion, optimizer, 10)"
   ]
  }
 ],
 "metadata": {
  "kernelspec": {
   "display_name": "Python 3",
   "language": "python",
   "name": "python3"
  },
  "language_info": {
   "codemirror_mode": {
    "name": "ipython",
    "version": 3
   },
   "file_extension": ".py",
   "mimetype": "text/x-python",
   "name": "python",
   "nbconvert_exporter": "python",
   "pygments_lexer": "ipython3",
   "version": "3.10.11"
  }
 },
 "nbformat": 4,
 "nbformat_minor": 2
}
